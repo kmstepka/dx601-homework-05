{
  "cells": [
    {
      "cell_type": "markdown",
      "metadata": {
        "id": "gNth75xDPtzQ"
      },
      "source": [
        "# DX 601 Week 5 Homework"
      ]
    },
    {
      "cell_type": "markdown",
      "metadata": {
        "id": "VNAEhPgUIGSa"
      },
      "source": [
        "## Introduction\n",
        "\n",
        "In this homework, you will practice working random variables and estimating their parameters.\n",
        "\n",
        "The focus on these problems is on your understanding of the math, not the programming.\n",
        "Some of the data sets will be small enough that you can look at the data and calculate the answer in your head.\n",
        "That is acceptable, though we encourage you to also think about how to write code to perform the same calculation for you.\n",
        "We will work with larger data sets and provide more code examples for you as this class progress."
      ]
    },
    {
      "cell_type": "markdown",
      "metadata": {
        "id": "cymZzbccIOC8"
      },
      "source": [
        "## Example Code\n",
        "\n",
        "You may find it helpful to refer to these GitHub repositories of Jupyter notebooks for example code.\n",
        "\n",
        "* https://github.com/bu-cds-omds/dx500-examples\n",
        "* https://github.com/bu-cds-omds/dx601-examples\n",
        "* https://github.com/bu-cds-omds/dx602-examples\n",
        "\n",
        "Any calculations demonstrated in code examples or videos may be found in these notebooks, and you are allowed to copy this example code in your homework answers."
      ]
    },
    {
      "cell_type": "markdown",
      "metadata": {
        "id": "mRE4xW4QlRH-"
      },
      "source": [
        "## Shared Imports\n",
        "\n",
        "Do not install or use any additional modules.\n",
        "Installing additional modules may result in an autograder failure resulting in zero points for some or all problems."
      ]
    },
    {
      "cell_type": "code",
      "execution_count": 1,
      "metadata": {
        "id": "5yUvvDLwlSVb"
      },
      "outputs": [],
      "source": [
        "import math\n",
        "import random\n",
        "\n",
        "import matplotlib.pyplot as plt\n",
        "import numpy as np\n",
        "import pandas as pd\n",
        "import sklearn.linear_model"
      ]
    },
    {
      "cell_type": "markdown",
      "metadata": {
        "id": "07BtczTwIRLQ"
      },
      "source": [
        "## Problems"
      ]
    },
    {
      "cell_type": "markdown",
      "metadata": {},
      "source": [
        "### Problem 1\n",
        "\n",
        "The variable `q1` below has data for a probability distribution.\n",
        "The keys of `q1` are supposed to be ratings from 1 to 5 and the values are supposed to be the probabilities of each rating.\n",
        "However, the data for the rating of 5 is missing.\n",
        "Set `p1` to be the probability of rating 5 assuming that the probabilities for 1 to 4 are correct."
      ]
    },
    {
      "cell_type": "code",
      "execution_count": 2,
      "metadata": {},
      "outputs": [],
      "source": [
        "q1 = {1: 0.32, 2: 0.22, 3: 0.12, 4: 0.1}"
      ]
    },
    {
      "cell_type": "code",
      "execution_count": 3,
      "metadata": {},
      "outputs": [],
      "source": [
        "# YOUR CHANGES HERE\n",
        "\n",
        "p1 = .24"
      ]
    },
    {
      "cell_type": "markdown",
      "metadata": {},
      "source": [
        "Check the value of `p1`."
      ]
    },
    {
      "cell_type": "code",
      "execution_count": 4,
      "metadata": {},
      "outputs": [
        {
          "data": {
            "text/plain": [
              "0.24"
            ]
          },
          "execution_count": 4,
          "metadata": {},
          "output_type": "execute_result"
        }
      ],
      "source": [
        "p1"
      ]
    },
    {
      "cell_type": "markdown",
      "metadata": {},
      "source": [
        "### Problem 2\n",
        "\n",
        "The variable `q2` below has data for a probability distribution.\n",
        "The keys of `q2` are integer ratings from 1 to 5 and the values are the probabilities of each rating.\n",
        "Set `p2` to the average rating based on `q2`."
      ]
    },
    {
      "cell_type": "code",
      "execution_count": 5,
      "metadata": {},
      "outputs": [],
      "source": [
        "q2 = {1 : 0.11, 2: 0.18, 3: 0.35, 4: 0.24, 5: 0.12}"
      ]
    },
    {
      "cell_type": "code",
      "execution_count": 11,
      "metadata": {},
      "outputs": [],
      "source": [
        "# YOUR CHANGES HERE\n",
        "\n",
        "p2 = np.sum([k * v for k, v in q2.items()])"
      ]
    },
    {
      "cell_type": "markdown",
      "metadata": {},
      "source": [
        "Check the value of `p2`."
      ]
    },
    {
      "cell_type": "code",
      "execution_count": 12,
      "metadata": {},
      "outputs": [
        {
          "data": {
            "text/plain": [
              "np.float64(3.0799999999999996)"
            ]
          },
          "execution_count": 12,
          "metadata": {},
          "output_type": "execute_result"
        }
      ],
      "source": [
        "p2"
      ]
    },
    {
      "cell_type": "markdown",
      "metadata": {
        "id": "J5s_YDzOIaYW"
      },
      "source": [
        "### Problem 3\n",
        "\n",
        "Set `p3` to the sample probability that the rated flavor is at least 3 in `q3`."
      ]
    },
    {
      "cell_type": "code",
      "execution_count": null,
      "metadata": {},
      "outputs": [
        {
          "data": {
            "text/html": [
              "<div>\n",
              "<style scoped>\n",
              "    .dataframe tbody tr th:only-of-type {\n",
              "        vertical-align: middle;\n",
              "    }\n",
              "\n",
              "    .dataframe tbody tr th {\n",
              "        vertical-align: top;\n",
              "    }\n",
              "\n",
              "    .dataframe thead th {\n",
              "        text-align: right;\n",
              "    }\n",
              "</style>\n",
              "<table border=\"1\" class=\"dataframe\">\n",
              "  <thead>\n",
              "    <tr style=\"text-align: right;\">\n",
              "      <th></th>\n",
              "      <th>green_rating</th>\n",
              "      <th>yellow_rating</th>\n",
              "      <th>softness</th>\n",
              "      <th>wrinkles</th>\n",
              "      <th>estimated_flavor</th>\n",
              "      <th>estimated_sweetness</th>\n",
              "      <th>rated_flavor</th>\n",
              "    </tr>\n",
              "  </thead>\n",
              "  <tbody>\n",
              "    <tr>\n",
              "      <th>0</th>\n",
              "      <td>1</td>\n",
              "      <td>5</td>\n",
              "      <td>4</td>\n",
              "      <td>0</td>\n",
              "      <td>4</td>\n",
              "      <td>4</td>\n",
              "      <td>5</td>\n",
              "    </tr>\n",
              "    <tr>\n",
              "      <th>1</th>\n",
              "      <td>1</td>\n",
              "      <td>5</td>\n",
              "      <td>5</td>\n",
              "      <td>1</td>\n",
              "      <td>5</td>\n",
              "      <td>5</td>\n",
              "      <td>1</td>\n",
              "    </tr>\n",
              "    <tr>\n",
              "      <th>2</th>\n",
              "      <td>2</td>\n",
              "      <td>4</td>\n",
              "      <td>3</td>\n",
              "      <td>1</td>\n",
              "      <td>3</td>\n",
              "      <td>3</td>\n",
              "      <td>3</td>\n",
              "    </tr>\n",
              "    <tr>\n",
              "      <th>3</th>\n",
              "      <td>3</td>\n",
              "      <td>3</td>\n",
              "      <td>2</td>\n",
              "      <td>0</td>\n",
              "      <td>2</td>\n",
              "      <td>1</td>\n",
              "      <td>2</td>\n",
              "    </tr>\n",
              "    <tr>\n",
              "      <th>4</th>\n",
              "      <td>5</td>\n",
              "      <td>1</td>\n",
              "      <td>1</td>\n",
              "      <td>1</td>\n",
              "      <td>1</td>\n",
              "      <td>1</td>\n",
              "      <td>1</td>\n",
              "    </tr>\n",
              "    <tr>\n",
              "      <th>5</th>\n",
              "      <td>4</td>\n",
              "      <td>2</td>\n",
              "      <td>1</td>\n",
              "      <td>1</td>\n",
              "      <td>1</td>\n",
              "      <td>1</td>\n",
              "      <td>1</td>\n",
              "    </tr>\n",
              "    <tr>\n",
              "      <th>6</th>\n",
              "      <td>5</td>\n",
              "      <td>1</td>\n",
              "      <td>1</td>\n",
              "      <td>1</td>\n",
              "      <td>2</td>\n",
              "      <td>1</td>\n",
              "      <td>1</td>\n",
              "    </tr>\n",
              "    <tr>\n",
              "      <th>7</th>\n",
              "      <td>3</td>\n",
              "      <td>3</td>\n",
              "      <td>2</td>\n",
              "      <td>1</td>\n",
              "      <td>2</td>\n",
              "      <td>2</td>\n",
              "      <td>2</td>\n",
              "    </tr>\n",
              "  </tbody>\n",
              "</table>\n",
              "</div>"
            ],
            "text/plain": [
              "   green_rating  yellow_rating  softness  wrinkles  estimated_flavor  \\\n",
              "0             1              5         4         0                 4   \n",
              "1             1              5         5         1                 5   \n",
              "2             2              4         3         1                 3   \n",
              "3             3              3         2         0                 2   \n",
              "4             5              1         1         1                 1   \n",
              "5             4              2         1         1                 1   \n",
              "6             5              1         1         1                 2   \n",
              "7             3              3         2         1                 2   \n",
              "\n",
              "   estimated_sweetness  rated_flavor  \n",
              "0                    4             5  \n",
              "1                    5             1  \n",
              "2                    3             3  \n",
              "3                    1             2  \n",
              "4                    1             1  \n",
              "5                    1             1  \n",
              "6                    1             1  \n",
              "7                    2             2  "
            ]
          },
          "execution_count": 13,
          "metadata": {},
          "output_type": "execute_result"
        }
      ],
      "source": [
        "# DO NOT CHANGE\n",
        "\n",
        "q3 = pd.read_csv(\"mango-tiny.tsv\", sep=\"\\t\")\n",
        "q3"
      ]
    },
    {
      "cell_type": "code",
      "execution_count": null,
      "metadata": {},
      "outputs": [],
      "source": [
        "# YOUR CHANGES HERE\n",
        "\n",
        "p3 = q3[q3[\"rated_flavor\"] >= 3].shape[0] / q3.shape[0]"
      ]
    },
    {
      "cell_type": "markdown",
      "metadata": {},
      "source": [
        "Check the value of `p3`."
      ]
    },
    {
      "cell_type": "code",
      "execution_count": null,
      "metadata": {},
      "outputs": [
        {
          "data": {
            "text/plain": [
              "0.25"
            ]
          },
          "execution_count": 15,
          "metadata": {},
          "output_type": "execute_result"
        }
      ],
      "source": [
        "p3"
      ]
    },
    {
      "cell_type": "markdown",
      "metadata": {
        "id": "kWZScrvzIh0c"
      },
      "source": [
        "### Problem 4\n",
        "\n",
        "Set `p4` to the probability of sampling the exact sequence of values in `q4` assuming that it is a Boolean random variable which is True with probability 0.9.\n"
      ]
    },
    {
      "cell_type": "code",
      "execution_count": null,
      "metadata": {},
      "outputs": [],
      "source": [
        "# DO NOT CHANGE\n",
        "\n",
        "q4 = [False, False, True, True, True, True, True, True, True, False]"
      ]
    },
    {
      "cell_type": "code",
      "execution_count": null,
      "metadata": {},
      "outputs": [],
      "source": [
        "# YOUR CHANGES HERE\n",
        "\n",
        "p4 = .1*.1*.9*.9*.9*.9*.9*.9*.9*.1"
      ]
    },
    {
      "cell_type": "code",
      "execution_count": null,
      "metadata": {},
      "outputs": [
        {
          "data": {
            "text/plain": [
              "0.00047829690000000027"
            ]
          },
          "execution_count": 18,
          "metadata": {},
          "output_type": "execute_result"
        }
      ],
      "source": [
        "p4"
      ]
    },
    {
      "cell_type": "markdown",
      "metadata": {
        "id": "RpywPjcnIhgt"
      },
      "source": [
        "### Problem 5\n",
        "\n",
        "`q5` was populated with samples of a Boolean random variable with an unknown probability.\n",
        "Set `p5` to the best estimate for that probability based on the sample in `q5`."
      ]
    },
    {
      "cell_type": "code",
      "execution_count": null,
      "metadata": {},
      "outputs": [],
      "source": [
        "# DO NOT CHANGE\n",
        "\n",
        "q5 = [ True,  True,  True,  True, False,  True, False,  True,  True,\n",
        "        True,  True,  True,  True,  True,  True,  True,  True,  True,\n",
        "        True,  True]"
      ]
    },
    {
      "cell_type": "code",
      "execution_count": null,
      "metadata": {},
      "outputs": [],
      "source": [
        "# YOUR CHANGES HERE\n",
        "\n",
        "p5 = np.mean(q5)"
      ]
    },
    {
      "cell_type": "code",
      "execution_count": null,
      "metadata": {},
      "outputs": [
        {
          "data": {
            "text/plain": [
              "np.float64(0.9)"
            ]
          },
          "execution_count": 21,
          "metadata": {},
          "output_type": "execute_result"
        }
      ],
      "source": [
        "p5"
      ]
    },
    {
      "cell_type": "markdown",
      "metadata": {},
      "source": [
        "### Problem 6\n",
        "\n",
        "The variable `q6` has a probability where the keys are different events and the values are the probabilities of those events.\n",
        "Set `p6` to be the entropy of that probability distribution using base 2 for the logarithm.\n",
        "\n"
      ]
    },
    {
      "cell_type": "code",
      "execution_count": null,
      "metadata": {},
      "outputs": [],
      "source": [
        "q6 = {\n",
        "    \"robot uprising\": 0.2,\n",
        "    \"politician uprising\": 0.1,\n",
        "    \"it rains but only on Boston\": 0.3,\n",
        "    \"the class votes for ghost peppers\": 0.01,\n",
        "    \"a pretty normal day\": 0.39,\n",
        "}"
      ]
    },
    {
      "cell_type": "code",
      "execution_count": null,
      "metadata": {},
      "outputs": [],
      "source": [
        "# YOUR CHANGES HERE\n",
        "\n",
        "p6 = -1*sum([p * math.log2(p) for p in q6.values()])"
      ]
    },
    {
      "cell_type": "markdown",
      "metadata": {},
      "source": [
        "Check the value of `p6`."
      ]
    },
    {
      "cell_type": "code",
      "execution_count": null,
      "metadata": {},
      "outputs": [
        {
          "data": {
            "text/plain": [
              "1.9139037172696836"
            ]
          },
          "execution_count": 74,
          "metadata": {},
          "output_type": "execute_result"
        }
      ],
      "source": [
        "p6"
      ]
    },
    {
      "cell_type": "markdown",
      "metadata": {
        "id": "JbuxPaO1IhQF"
      },
      "source": [
        "### Problem 7\n",
        "\n",
        "The Gaussian distribution is often described with parameters $\\mu$ and $\\sigma$ which are its mean and standard deviation respectively.\n",
        "The variable `q7` contains sample from a Gaussian distribution with unknown parameters $\\mu$ and $\\sigma$.\n",
        "Set `p7` to the best estimate for $\\mu$ based on `q7`."
      ]
    },
    {
      "cell_type": "code",
      "execution_count": null,
      "metadata": {},
      "outputs": [],
      "source": [
        "# DO NOT CHANGE\n",
        "\n",
        "q7 = [ 2.18951305,  3.21334859,  1.14365045,  4.1614196 ,  2.24432341,\n",
        "        1.65558202, -0.64765017,  1.79813678,  2.44497505, -1.01086414,\n",
        "        4.44433271,  4.42989967,  4.81153414,  4.15714616, -1.00328116,\n",
        "        0.08574746,  0.68626944,  2.29629939, -0.81616113,  3.51392696,\n",
        "        3.71135799, -3.40450797, -0.78631389, -0.80101964, -0.60264114,\n",
        "        1.39234378,  2.11862709, -1.05183249,  0.93631673,  2.90434645,\n",
        "        4.67682544,  3.71805815,  2.29786649,  3.1781374 ,  1.90267204,\n",
        "       -2.8452543 ,  2.39347453,  2.45620551,  0.96723225,  4.24547985,\n",
        "       -1.23106729,  1.16939068,  2.7122868 ,  2.27630836,  4.0921482 ,\n",
        "       -3.12414746,  1.47289076,  4.31979053,  2.47272146, -1.22572675,\n",
        "        0.8395345 ,  3.11764728,  4.12395572,  5.28917842,  6.56875269,\n",
        "        0.92508068,  0.49923847, -2.35643919, -0.35051155,  4.42566994,\n",
        "        1.90822077,  2.77904544,  5.18627903, -2.64782035,  3.48792269,\n",
        "        2.50389233, -1.11439104,  1.19428788,  7.03592233,  5.83566561,\n",
        "        6.5173106 ,  0.30285976,  0.25946494,  6.42905913,  5.47758718,\n",
        "       -0.39919649,  3.62305191,  6.21423662,  4.98367437,  4.86768458,\n",
        "        2.54374759,  2.93269745,  0.53365972,  6.09710561, -2.65911688,\n",
        "       -0.55479593, -0.38957135, -1.25774693, -0.83393951,  6.1942297 ,\n",
        "       -0.11597524, -3.5199578 ,  2.36897896,  2.65485797, -0.97884383,\n",
        "        1.82181155,  0.31590117,  4.81870844,  6.50617794, -0.06944201]"
      ]
    },
    {
      "cell_type": "code",
      "execution_count": null,
      "metadata": {},
      "outputs": [],
      "source": [
        "# YOUR CHANGES HERE\n",
        "\n",
        "p7 = np.mean(q7)"
      ]
    },
    {
      "cell_type": "code",
      "execution_count": null,
      "metadata": {},
      "outputs": [
        {
          "data": {
            "text/plain": [
              "np.float64(1.9407546870999999)"
            ]
          },
          "execution_count": 27,
          "metadata": {},
          "output_type": "execute_result"
        }
      ],
      "source": [
        "p7"
      ]
    },
    {
      "cell_type": "markdown",
      "metadata": {
        "id": "mW_Zh_tIIg49"
      },
      "source": [
        "### Problem 8\n",
        "\n",
        "The Gaussian distribution is often described with parameters $\\mu$ and $\\sigma$ which are its mean and standard deviation respectively.\n",
        "The variable `q8` contains sample from a Gaussian distribution with unknown parameters $\\mu$ and $\\sigma$.\n",
        "Set `p8` to the best estimate for $\\sigma$ based on `q8`."
      ]
    },
    {
      "cell_type": "code",
      "execution_count": null,
      "metadata": {},
      "outputs": [],
      "source": [
        "# DO NOT CHANGE\n",
        "\n",
        "q8 = [-1.32487763, -0.72394429,  4.77772181,  5.53219241,  3.7269577 ,\n",
        "        1.55964185,  4.95652446, -0.66917544, -1.61680259,  0.71205177,\n",
        "        1.33359678, -0.7944082 ,  4.04367501, -3.13827056,  6.71313336,\n",
        "        1.4620493 ,  3.11105169, -1.37720757,  0.62460622,  4.44396039,\n",
        "        3.33122464, -1.03426957,  5.71976918,  5.18648399,  8.78590097,\n",
        "        8.19428146,  5.97375495, -1.14346419,  2.4632692 , -2.99693742,\n",
        "        4.31784396,  0.1288061 ,  6.88487521,  3.77759187,  1.39286328,\n",
        "        5.58024851,  0.34219152,  0.12581538,  7.58634855,  2.7136383 ,\n",
        "        4.27255656,  2.62606352, -2.2675166 ,  9.19413007,  2.63380853,\n",
        "        2.84071553,  1.7504841 ,  2.16675503,  7.2437412 ,  5.22792685,\n",
        "        1.5028551 ,  2.66958666,  0.65899729, -4.24551101, -2.98336679,\n",
        "        1.86630789, -0.75597163,  3.84145905,  1.42392319, -1.87596843,\n",
        "       -4.26214085,  3.95754016,  1.26508575,  1.91800295,  0.32456464,\n",
        "        0.76239803, -1.89559082,  2.45133463,  6.26226898, -2.53496552,\n",
        "        2.27062546, -1.97584281,  4.52991083, -1.07315439, -0.79299469,\n",
        "        1.33714764, 11.63999658,  3.85562346,  4.09258214,  5.88166888,\n",
        "        0.36022584,  1.3540896 ,  3.12185003, -0.11699805,  7.62129988,\n",
        "        0.77460845,  1.48166123,  1.31982143,  4.36979573, -0.41560051,\n",
        "        2.85778122, -0.17848605,  3.35888191, -3.64378923,  6.05619661,\n",
        "       -0.01644298,  3.87381097,  0.07376891,  1.6267978 ,  0.039076  ]"
      ]
    },
    {
      "cell_type": "markdown",
      "metadata": {
        "id": "FUKw4A2H2dku"
      },
      "source": [
        "Hint: Don't forget that `q8` is a sample."
      ]
    },
    {
      "cell_type": "code",
      "execution_count": null,
      "metadata": {},
      "outputs": [],
      "source": [
        "# YOUR CHANGES HERE\n",
        "\n",
        "p8 = np.std(q8, ddof=1)"
      ]
    },
    {
      "cell_type": "markdown",
      "metadata": {},
      "source": [
        "Check the value of `p8`."
      ]
    },
    {
      "cell_type": "code",
      "execution_count": null,
      "metadata": {},
      "outputs": [
        {
          "data": {
            "text/plain": [
              "np.float64(3.1793252926677353)"
            ]
          },
          "execution_count": 30,
          "metadata": {},
          "output_type": "execute_result"
        }
      ],
      "source": [
        "p8"
      ]
    },
    {
      "cell_type": "markdown",
      "metadata": {
        "id": "8OTx56oFIgh5"
      },
      "source": [
        "### Problem 9\n",
        "\n",
        "The function `q9` below samples a uniform random distribution from a range besides [0,1).\n",
        "What is the 25th percentile of that distribution?"
      ]
    },
    {
      "cell_type": "code",
      "execution_count": 19,
      "metadata": {},
      "outputs": [],
      "source": [
        "# DO NOT CHANGE\n",
        "\n",
        "def q9():\n",
        "    return random.random() * 3 + 2"
      ]
    },
    {
      "cell_type": "code",
      "execution_count": 25,
      "metadata": {},
      "outputs": [],
      "source": [
        "# YOUR CHANGES HERE\n",
        "# min 2 max 5\n",
        "p9 = 3*.25 +2\n",
        "#np.percentile([q9() for i in range(10000)], 25)"
      ]
    },
    {
      "cell_type": "code",
      "execution_count": 26,
      "metadata": {},
      "outputs": [
        {
          "data": {
            "text/plain": [
              "2.75"
            ]
          },
          "execution_count": 26,
          "metadata": {},
          "output_type": "execute_result"
        }
      ],
      "source": [
        "p9"
      ]
    },
    {
      "cell_type": "markdown",
      "metadata": {
        "id": "88HguRnEIfeI"
      },
      "source": [
        "### Problem 10\n",
        "\n",
        "Suppose variable $X$ is uniformly distributed between zero and one, and $Y = 1$ if $X > 0.7$ and $Y = 0$ otherwise.\n",
        "Set `p10` to the average value of $Y$."
      ]
    },
    {
      "cell_type": "code",
      "execution_count": null,
      "metadata": {},
      "outputs": [],
      "source": [
        "# YOUR CHANGES HERE\n",
        "\n",
        "p10 = .3"
      ]
    },
    {
      "cell_type": "markdown",
      "metadata": {},
      "source": [
        "Check the value of `p10`."
      ]
    },
    {
      "cell_type": "code",
      "execution_count": null,
      "metadata": {},
      "outputs": [
        {
          "data": {
            "text/plain": [
              "0.3"
            ]
          },
          "execution_count": 35,
          "metadata": {},
          "output_type": "execute_result"
        }
      ],
      "source": [
        "p10"
      ]
    },
    {
      "cell_type": "markdown",
      "metadata": {},
      "source": [
        "### Problem 11\n",
        "\n",
        "Read the following function `q11`.\n",
        "Set `p11` to be the probability that it returns 5.\n"
      ]
    },
    {
      "cell_type": "code",
      "execution_count": null,
      "metadata": {},
      "outputs": [],
      "source": [
        "# DO NOT CHANGE\n",
        "\n",
        "def q11():\n",
        "    if random.random() < 0.3:\n",
        "        return 3\n",
        "    else:\n",
        "        return 5"
      ]
    },
    {
      "cell_type": "code",
      "execution_count": null,
      "metadata": {},
      "outputs": [],
      "source": [
        "# YOUR CHANGES HERE\n",
        "\n",
        "p11 = .7"
      ]
    },
    {
      "cell_type": "markdown",
      "metadata": {},
      "source": [
        "Check the value of `p11`."
      ]
    },
    {
      "cell_type": "code",
      "execution_count": null,
      "metadata": {},
      "outputs": [
        {
          "data": {
            "text/plain": [
              "0.7"
            ]
          },
          "execution_count": 38,
          "metadata": {},
          "output_type": "execute_result"
        }
      ],
      "source": [
        "p11"
      ]
    },
    {
      "cell_type": "markdown",
      "metadata": {
        "id": "tO_o_pYkIfE3"
      },
      "source": [
        "### Problem 12\n",
        "\n",
        "`q12` was populated by sampling a normal distribution with parameters $\\mu = 3$ and $\\sigma = 2.5$.\n",
        "Set `p12` to be the variance of the true distribution."
      ]
    },
    {
      "cell_type": "code",
      "execution_count": 28,
      "metadata": {},
      "outputs": [],
      "source": [
        "# DO NOT CHANGE\n",
        "\n",
        "q12 = [ 2.49073198,  3.96150942,  3.57959012,  2.97489566,  4.43810472,\n",
        "        0.60937953,  4.79559959,  3.31998609, -3.13413567,  4.18655819,\n",
        "        1.60472606, -0.90067315,  5.72144055,  1.96285829,  3.58032777,\n",
        "        5.0000598 ,  1.99155364,  4.03012882,  4.4328265 ,  3.7561623 ,\n",
        "        4.36517297,  7.33571955,  2.98004007,  2.39190998,  0.8896004 ,\n",
        "        4.39483694,  6.24001744,  3.5728269 ,  3.56109955,  0.03100252,\n",
        "        0.01694201,  6.10146135,  6.53860572, -0.98557317,  5.55601581,\n",
        "       -0.57466865,  1.96730937,  3.154147  ,  0.57831568,  2.7929834 ,\n",
        "        2.02219267,  2.57068019,  2.00348843,  5.32982181,  4.12930339,\n",
        "        1.83013824,  2.94163411,  1.8466857 ,  2.50884172,  3.42618505,\n",
        "        0.41681884,  4.27545837, -0.33949951,  5.33027797,  2.55328453,\n",
        "        1.31282454,  5.2186943 ,  4.44302476,  2.37329286, -1.06933716,\n",
        "       -4.2889853 , -0.91837895,  4.79007654,  1.86741974,  3.52981753,\n",
        "        1.84690485,  7.52242246, -0.8776054 ,  7.03684919,  5.18383115,\n",
        "       -0.18018984,  2.49325949,  5.93960657,  2.56212489,  5.58226401,\n",
        "        0.13910789, -0.15979284,  4.6192372 ,  6.79108277, -1.88259064,\n",
        "        2.28757873,  6.14699094,  5.89771401, -1.14394154,  4.37797268,\n",
        "        4.48893764,  2.25998463,  0.45671891,  2.085927  ,  3.35330559,\n",
        "        3.27327967,  0.07365027,  2.80898248,  0.247282  , -3.08661626,\n",
        "        2.63549085,  9.92929404,  2.73060926,  2.30437159,  1.3225877 ]"
      ]
    },
    {
      "cell_type": "markdown",
      "metadata": {},
      "source": [
        "Hint: you should be able to calculate this exactly.\n",
        "No estimate is required."
      ]
    },
    {
      "cell_type": "code",
      "execution_count": null,
      "metadata": {},
      "outputs": [],
      "source": [
        "# YOUR CHANGES HERE\n",
        "\n",
        "p12 = 2.5 \n",
        "#sum([(i - 3)**2 for i in q12]) / (len(q12) -1)"
      ]
    },
    {
      "cell_type": "code",
      "execution_count": 32,
      "metadata": {},
      "outputs": [
        {
          "data": {
            "text/plain": [
              "2.5"
            ]
          },
          "execution_count": 32,
          "metadata": {},
          "output_type": "execute_result"
        }
      ],
      "source": [
        "p12"
      ]
    },
    {
      "cell_type": "markdown",
      "metadata": {
        "id": "cUeEhIJRIecP"
      },
      "source": [
        "### Problem 13\n",
        "\n",
        "Write a function `p13` that computes the cumulative distribution function of the uniform random distribution between -0.5 and 1.5."
      ]
    },
    {
      "cell_type": "code",
      "execution_count": null,
      "metadata": {},
      "outputs": [],
      "source": [
        "# YOUR CHANGES HERE\n",
        "\n",
        "def p13(x):\n",
        "    if x > 1.5:\n",
        "        return 1\n",
        "    elif x < -.5:\n",
        "        return 0\n",
        "    else: \n",
        "        return (x +.5) / 2"
      ]
    },
    {
      "cell_type": "markdown",
      "metadata": {},
      "source": [
        "Check the output of `p13`."
      ]
    },
    {
      "cell_type": "code",
      "execution_count": null,
      "metadata": {},
      "outputs": [
        {
          "data": {
            "text/plain": [
              "0"
            ]
          },
          "execution_count": 43,
          "metadata": {},
          "output_type": "execute_result"
        }
      ],
      "source": [
        "p13(-1.0)"
      ]
    },
    {
      "cell_type": "code",
      "execution_count": null,
      "metadata": {},
      "outputs": [
        {
          "data": {
            "text/plain": [
              "0.0"
            ]
          },
          "execution_count": 44,
          "metadata": {},
          "output_type": "execute_result"
        }
      ],
      "source": [
        "p13(-0.5)"
      ]
    },
    {
      "cell_type": "code",
      "execution_count": null,
      "metadata": {},
      "outputs": [
        {
          "data": {
            "text/plain": [
              "0.25"
            ]
          },
          "execution_count": 45,
          "metadata": {},
          "output_type": "execute_result"
        }
      ],
      "source": [
        "p13(0.0)"
      ]
    },
    {
      "cell_type": "code",
      "execution_count": null,
      "metadata": {},
      "outputs": [
        {
          "data": {
            "text/plain": [
              "0.5"
            ]
          },
          "execution_count": 46,
          "metadata": {},
          "output_type": "execute_result"
        }
      ],
      "source": [
        "p13(0.5)"
      ]
    },
    {
      "cell_type": "code",
      "execution_count": null,
      "metadata": {},
      "outputs": [
        {
          "data": {
            "text/plain": [
              "0.75"
            ]
          },
          "execution_count": 47,
          "metadata": {},
          "output_type": "execute_result"
        }
      ],
      "source": [
        "p13(1.0)"
      ]
    },
    {
      "cell_type": "code",
      "execution_count": null,
      "metadata": {},
      "outputs": [
        {
          "data": {
            "text/plain": [
              "1.0"
            ]
          },
          "execution_count": 48,
          "metadata": {},
          "output_type": "execute_result"
        }
      ],
      "source": [
        "p13(1.5)"
      ]
    },
    {
      "cell_type": "code",
      "execution_count": null,
      "metadata": {},
      "outputs": [
        {
          "data": {
            "text/plain": [
              "1"
            ]
          },
          "execution_count": 49,
          "metadata": {},
          "output_type": "execute_result"
        }
      ],
      "source": [
        "p13(2.0)"
      ]
    },
    {
      "cell_type": "markdown",
      "metadata": {
        "id": "BVB280nDIduP"
      },
      "source": [
        "### Problem 14\n",
        "\n",
        "The variables `q14a` and `q14b` were both sampled from distributions $A$ and $B$ which are both normal distributions with unknown parameters.\n",
        "Set `p14` to the best estimate for the mean of the distribution $A + B$ where samples of $A$ are added to samples of $B$."
      ]
    },
    {
      "cell_type": "code",
      "execution_count": 34,
      "metadata": {},
      "outputs": [],
      "source": [
        "# DO NOT CHANGE\n",
        "\n",
        "q14a = [ 3.05229454,  2.26865592, -0.28446062,  2.72815019,  0.87702548,\n",
        "        2.39263395,  3.17406741,  2.99130508,  2.18517843,  1.91179467,\n",
        "        1.276371  ,  1.58415728,  5.17685568,  2.25579908,  4.1273098 ,\n",
        "        1.18074705,  2.57485786,  2.01014922,  3.29417197,  1.43566483,\n",
        "        3.81411092,  3.02804559,  1.39695517,  1.97971733,  2.09189825,\n",
        "        0.64092016,  2.58860093,  2.78111888,  3.94685952,  2.10160553,\n",
        "        2.69579444,  1.14600875,  0.9743622 ,  3.56832344,  0.46665662,\n",
        "        1.2241187 ,  1.80532282,  3.76737705,  3.06181508,  2.8311355 ,\n",
        "        3.53584199,  3.30625694,  0.17647862,  3.0485558 ,  3.85965566,\n",
        "        2.44064979,  0.52507351,  1.48381841,  4.3613498 ,  1.91572142,\n",
        "        0.4141849 ,  0.24046835,  3.63840345,  2.34779604,  1.84522379,\n",
        "        1.15184225,  2.88400496,  2.52343481,  1.40144055,  0.62043358,\n",
        "        2.32197257,  3.67424475,  2.24350799,  0.0731625 ,  1.09701349,\n",
        "        1.53012311,  1.33975812,  1.43008794,  3.01551034,  1.89454186,\n",
        "        3.37760792,  1.7526434 ,  0.09430535,  3.76751883,  2.21365605,\n",
        "       -1.79405225, -2.35551196,  2.49030091,  2.95382578,  4.21424994,\n",
        "        3.18841543,  3.25701312,  2.26213341,  1.28897006,  3.15991118,\n",
        "        0.92657717,  1.69053899,  4.0727547 ,  2.92330195,  3.56225094,\n",
        "        2.03534048,  1.3435683 ,  3.84731073, -0.76679685,  0.47916153,\n",
        "        2.28306285,  2.37714022,  1.69922985,  3.01644183,  4.8481596 ]"
      ]
    },
    {
      "cell_type": "code",
      "execution_count": 35,
      "metadata": {},
      "outputs": [],
      "source": [
        "# DO NOT CHANGE\n",
        "\n",
        "q14b = [0.43973473, 0.49035749, 0.37869895, 0.46085026, 0.4804874 ,\n",
        "       0.60468773, 0.17334382, 0.4501747 , 0.3875715 , 0.46082909,\n",
        "       0.57557651, 0.48700529, 0.51676064, 0.49849571, 0.47736084,\n",
        "       0.61179914, 0.49752516, 0.57352076, 0.5538917 , 0.35818804,\n",
        "       0.37365096, 0.45016084, 0.62332962, 0.26892053, 0.47056826,\n",
        "       0.48392473, 0.36533735, 0.46471291, 0.36393801, 0.41489211,\n",
        "       0.41772154, 0.39896619, 0.60142511, 0.4156219 , 0.59968116,\n",
        "       0.4578653 , 0.33890952, 0.51023614, 0.34758804, 0.52963593,\n",
        "       0.57499551, 0.38295178, 0.6301122 , 0.61782609, 0.46120195,\n",
        "       0.4892057 , 0.42706462, 0.49021875, 0.59549941, 0.41114449,\n",
        "       0.56757128, 0.53615432, 0.56154366, 0.50702254, 0.5924536 ,\n",
        "       0.51203165, 0.57877741, 0.65814672, 0.46251323, 0.43326838,\n",
        "       0.45024371, 0.58353354, 0.4180071 , 0.50474524, 0.48361257,\n",
        "       0.45206656, 0.50495991, 0.5947725 , 0.61731827, 0.37045298,\n",
        "       0.4601027 , 0.50905589, 0.49807366, 0.41684085, 0.40852841,\n",
        "       0.42148078, 0.51519874, 0.59004724, 0.61401271, 0.51959196,\n",
        "       0.41803244, 0.75651183, 0.6851764 , 0.43835799, 0.53803429,\n",
        "       0.32109122, 0.49139667, 0.43740161, 0.60515444, 0.6028803 ,\n",
        "       0.50560156, 0.57192461, 0.71634746, 0.38701729, 0.53235196,\n",
        "       0.40886518, 0.41700478, 0.55548547, 0.581273  , 0.67311741]"
      ]
    },
    {
      "cell_type": "code",
      "execution_count": 38,
      "metadata": {},
      "outputs": [],
      "source": [
        "# YOUR CHANGES HERE\n",
        "#p14a = q14a + q14b\n",
        "p14 = np.sum(q14a + q14b) / len(q14a)"
      ]
    },
    {
      "cell_type": "markdown",
      "metadata": {},
      "source": [
        "Check the value of `p14`."
      ]
    },
    {
      "cell_type": "code",
      "execution_count": 39,
      "metadata": {},
      "outputs": [
        {
          "data": {
            "text/plain": [
              "np.float64(2.6611238258)"
            ]
          },
          "execution_count": 39,
          "metadata": {},
          "output_type": "execute_result"
        }
      ],
      "source": [
        "p14"
      ]
    },
    {
      "cell_type": "markdown",
      "metadata": {},
      "source": [
        "### Problem 15\n",
        "\n",
        "Write a function `p15` that returns the string \"You win!\" 1% of the time and \"Sorry\" the rest of the time."
      ]
    },
    {
      "cell_type": "code",
      "execution_count": null,
      "metadata": {},
      "outputs": [],
      "source": [
        "# YOUR CHANGES HERE\n",
        "\n",
        "def p15():\n",
        "    return \"You win!\" if random.random() <.01 else \"Sorry\""
      ]
    },
    {
      "cell_type": "markdown",
      "metadata": {},
      "source": [
        "Test `p15`."
      ]
    },
    {
      "cell_type": "code",
      "execution_count": null,
      "metadata": {},
      "outputs": [
        {
          "data": {
            "text/plain": [
              "['Sorry',\n",
              " 'Sorry',\n",
              " 'Sorry',\n",
              " 'Sorry',\n",
              " 'Sorry',\n",
              " 'Sorry',\n",
              " 'Sorry',\n",
              " 'Sorry',\n",
              " 'Sorry',\n",
              " 'Sorry']"
            ]
          },
          "execution_count": 55,
          "metadata": {},
          "output_type": "execute_result"
        }
      ],
      "source": [
        "[p15() for _ in range(10)]"
      ]
    },
    {
      "cell_type": "markdown",
      "metadata": {
        "id": "Y_DV5n5kIdYx"
      },
      "source": [
        "### Problem 16\n",
        "\n",
        "The function `q16` below is the cumulative distribution function for an unknown distribution.\n",
        "Set `p16` to the median of that distribution."
      ]
    },
    {
      "cell_type": "markdown",
      "metadata": {},
      "source": [
        "Hint: you can figure this out by studying how `q16` works, or by calling it several times to understand the distribution that way.\n",
        "You may also find it helpful to plot the output of `q16`."
      ]
    },
    {
      "cell_type": "code",
      "execution_count": 44,
      "metadata": {},
      "outputs": [],
      "source": [
        "# DO NOT CHANGE\n",
        "\n",
        "def q16(x):\n",
        "    if x < -4:\n",
        "        return 0\n",
        "    \n",
        "    elif -4 <= x < -3:\n",
        "        return ((x + 4) ** 2) / 2  # this is (x+4) squared, then divided by two\n",
        "    \n",
        "    elif -3 <= x < 0:\n",
        "        return (x / 6) + 1\n",
        "    \n",
        "    else:  # 0 <= x\n",
        "        return 1 \n"
      ]
    },
    {
      "cell_type": "markdown",
      "metadata": {},
      "source": [
        "Here is an equivalent mathematical expression for the same function.\n",
        "\n",
        "\\begin{array}{rcl}\n",
        "q_{16}(x) & = & \\begin{cases}\n",
        "0 & \\text{if } x < -4  \\\\\n",
        "\\\\\n",
        "\\frac{(x+4)^2}{2} & \\text{if } -4 \\leq x < -3 \\\\\n",
        "\\\\\n",
        "\\frac{x}{6} + 1 & \\text{if } -3 \\leq x < 0 \\\\\n",
        "\\\\\n",
        "1 & \\text{otherwise}\n",
        "\\end{cases}\n",
        "\\end{array}"
      ]
    },
    {
      "cell_type": "code",
      "execution_count": 49,
      "metadata": {},
      "outputs": [
        {
          "data": {
            "text/plain": [
              "(array([44.,  0.,  0.,  0.,  0.,  0.,  0.,  0.,  0., 56.]),\n",
              " array([0. , 0.1, 0.2, 0.3, 0.4, 0.5, 0.6, 0.7, 0.8, 0.9, 1. ]),\n",
              " <BarContainer object of 10 artists>)"
            ]
          },
          "execution_count": 49,
          "metadata": {},
          "output_type": "execute_result"
        },
        {
          "data": {
            "image/png": "[encoded data removed]",
            "text/plain": [
              "<Figure size 640x480 with 1 Axes>"
            ]
          },
          "metadata": {},
          "output_type": "display_data"
        }
      ],
      "source": [
        "plt.hist([q16(random.randint(-10**9, 10**9)) for i in range(100)])#, [i for i in range(100)])"
      ]
    },
    {
      "cell_type": "code",
      "execution_count": 51,
      "metadata": {},
      "outputs": [
        {
          "data": {
            "text/plain": [
              "np.float64(0.0)"
            ]
          },
          "execution_count": 51,
          "metadata": {},
          "output_type": "execute_result"
        }
      ],
      "source": [
        "np.median([q16(random.randint(-10**9, 10**9)) for i in range(10000)])"
      ]
    },
    {
      "cell_type": "code",
      "execution_count": 52,
      "metadata": {},
      "outputs": [],
      "source": [
        "# YOUR ANSWER HERE\n",
        "\n",
        "p16 = np.median([q16(random.randint(-10**9, 10**9)) for i in range(100000)])"
      ]
    },
    {
      "cell_type": "markdown",
      "metadata": {},
      "source": [
        "Check the value of `p16`."
      ]
    },
    {
      "cell_type": "code",
      "execution_count": null,
      "metadata": {},
      "outputs": [
        {
          "data": {
            "text/plain": [
              "np.float64(1.0)"
            ]
          },
          "execution_count": 54,
          "metadata": {},
          "output_type": "execute_result"
        }
      ],
      "source": [
        "p16"
      ]
    },
    {
      "cell_type": "markdown",
      "metadata": {
        "id": "w97gCVeiIdCK"
      },
      "source": [
        "### Problem 17\n",
        "\n",
        "Suppose that random variable $X$ is sampled uniform randomly from the range $[0,1)$, and the random variable $Y$ is defined to be $Y = 3X + 1$.\n",
        "Set `p17` to be the mean of $Y$."
      ]
    },
    {
      "cell_type": "markdown",
      "metadata": {},
      "source": [
        "Hint: it will probably help to think about the range of $Y$ and what the distribution within that range looks like."
      ]
    },
    {
      "cell_type": "code",
      "execution_count": null,
      "metadata": {},
      "outputs": [],
      "source": [
        "# YOUR CHANGES HERE\n",
        "\n",
        "p17 = 2.5"
      ]
    },
    {
      "cell_type": "code",
      "execution_count": null,
      "metadata": {},
      "outputs": [
        {
          "data": {
            "text/plain": [
              "2.5"
            ]
          },
          "execution_count": 61,
          "metadata": {},
          "output_type": "execute_result"
        }
      ],
      "source": [
        "p17"
      ]
    },
    {
      "cell_type": "markdown",
      "metadata": {
        "id": "4KFdwSFBIcoo"
      },
      "source": [
        "### Problem 18\n",
        "\n",
        "Suppose variable $X$ is uniformly distributed between 2 and 4, and $Y = X+1$ if $X > 3$ and $Y = 1$ otherwise.\n",
        "Set `p18` to the average value of $Y$."
      ]
    },
    {
      "cell_type": "markdown",
      "metadata": {},
      "source": [
        "Hint: Try drawing or plotting the value of $Y$ as a function of $X$."
      ]
    },
    {
      "cell_type": "code",
      "execution_count": 62,
      "metadata": {},
      "outputs": [],
      "source": [
        "# YOUR CHANGES HERE\n",
        "# .25 -> 4-5 .75 -> 1\n",
        "#4.5*.25 + .75\n",
        "#p18 = (4.5*.25)+.75\n",
        "def f18(x):\n",
        "    if x > 3:\n",
        "        return x+1\n",
        "    else:  # 0 <= x\n",
        "        return 1 "
      ]
    },
    {
      "cell_type": "code",
      "execution_count": null,
      "metadata": {},
      "outputs": [
        {
          "data": {
            "image/png": "[encoded data removed]",
            "text/plain": [
              "<Figure size 640x480 with 1 Axes>"
            ]
          },
          "metadata": {},
          "output_type": "display_data"
        }
      ],
      "source": [
        "\n",
        "x = np.linspace(2, 4, 400)\n",
        "\n",
        "y = np.where(x > 3, x + 1, 1)\n",
        "\n",
        "# Plot\n",
        "plt.plot(x, y, label='Y = f(X)')\n",
        "plt.xlabel('X')\n",
        "plt.ylabel('Y')\n",
        "plt.title('Relationship between X and Y')\n",
        "plt.legend()\n",
        "plt.grid(True)\n",
        "plt.show()"
      ]
    },
    {
      "cell_type": "code",
      "execution_count": 66,
      "metadata": {},
      "outputs": [
        {
          "data": {
            "text/plain": [
              "2.75"
            ]
          },
          "execution_count": 66,
          "metadata": {},
          "output_type": "execute_result"
        }
      ],
      "source": [
        "p18 = .5 + .5*4.5\n",
        "p18"
      ]
    },
    {
      "cell_type": "markdown",
      "metadata": {
        "id": "pQ5isDQqIcRG"
      },
      "source": [
        "### Problem 19\n",
        "\n",
        "Set `p19` to an estimate of the 90th percentile of the normal distribution with parameters $\\mu = 5$ and $\\sigma = 2$.\n",
        "Try to do this by sampling the distribution many times (say 10000), and computing the quantile from the sample data.\n",
        "This problem will allow inexact, but close estimates, so don't worry about sampling variation.\n",
        "\n",
        "You can sample that normal distribution once with `np.random.normal(loc=5, scale=2)`.\n",
        "See the documentation for [`np.random.normal`](https://numpy.org/doc/stable/reference/random/generated/numpy.random.normal.html) for more useful information."
      ]
    },
    {
      "cell_type": "code",
      "execution_count": null,
      "metadata": {},
      "outputs": [],
      "source": [
        "# YOUR CHANGES HERE\n",
        "\n",
        "# get a big sample from this distribution\n",
        "q19 = [np.random.normal(loc=5, scale=2) for i in range(10000)]"
      ]
    },
    {
      "cell_type": "code",
      "execution_count": null,
      "metadata": {},
      "outputs": [],
      "source": [
        "# YOUR CHANGES HERE\n",
        "\n",
        "# estimate the 90th percentile from the sample\n",
        "p19 = np.percentile(q19, 90)"
      ]
    },
    {
      "cell_type": "code",
      "execution_count": null,
      "metadata": {},
      "outputs": [
        {
          "data": {
            "text/plain": [
              "np.float64(7.572330453037367)"
            ]
          },
          "execution_count": 116,
          "metadata": {},
          "output_type": "execute_result"
        }
      ],
      "source": [
        "p19"
      ]
    },
    {
      "cell_type": "markdown",
      "metadata": {
        "id": "xxm1beScIboi"
      },
      "source": [
        "### Problem 20\n",
        "\n",
        "The data in `q20x` was generated by sampling uniformly at random between zero and two.\n",
        "The data in `q20y` was calculated as $2x + 1$ plus random noise where $x$ is the corresponding value in `q20x`.\n",
        "\n",
        "Build a linear model from `q20x` and `q20y` and set `p20` to coefficient for $x$ in that model.\n",
        "(`p20` should be close to 2, but will be slightly different due to the noise.)"
      ]
    },
    {
      "cell_type": "code",
      "execution_count": null,
      "metadata": {},
      "outputs": [],
      "source": [
        "# DO NOT CHANGE\n",
        "\n",
        "q20x = [0.45542456, 0.5619655 , 1.98673764, 0.39494011, 1.03570131,\n",
        "       1.07975325, 1.51760232, 0.47180573, 0.38067669, 1.84629125]"
      ]
    },
    {
      "cell_type": "code",
      "execution_count": null,
      "metadata": {},
      "outputs": [],
      "source": [
        "q20y = [0.9971621588157146, 2.5735616651097155, 4.973783648588769, 1.1067983025124097,\n",
        "         1.8254939098719511, 2.998556629834516, 5.176024170423844, 1.3041595788930969,\n",
        "           2.939895587626184, 4.865269147180646]"
      ]
    },
    {
      "cell_type": "code",
      "execution_count": null,
      "metadata": {},
      "outputs": [
        {
          "name": "stderr",
          "output_type": "stream",
          "text": [
            "/tmp/ipykernel_2733/3103071003.py:5: DeprecationWarning: Conversion of an array with ndim > 0 to a scalar is deprecated, and will error in future. Ensure you extract a single element from your array before performing this operation. (Deprecated NumPy 1.25.)\n",
            "  p20 = float(model.coef_)\n"
          ]
        }
      ],
      "source": [
        "# YOUR CHANGES HERE\n",
        "from sklearn.linear_model import LinearRegression\n",
        "model = LinearRegression()\n",
        "model.fit(np.array(q20x).reshape(-1,1), q20y)\n",
        "p20 = float(model.coef_)\n"
      ]
    },
    {
      "cell_type": "code",
      "execution_count": null,
      "metadata": {},
      "outputs": [
        {
          "data": {
            "text/plain": [
              "2.282723314854034"
            ]
          },
          "execution_count": 136,
          "metadata": {},
          "output_type": "execute_result"
        }
      ],
      "source": [
        "p20"
      ]
    },
    {
      "cell_type": "markdown",
      "metadata": {},
      "source": [
        "### Generative AI Usage\n",
        "\n",
        "If you used any generative AI tools, please add links to your transcripts below, and any other information that you feel is necessary to comply with the [generative AI policy](https://www.bu.edu/cds-faculty/culture-community/gaia-policy/).\n",
        "If you did not use any generative AI tools, simply write NONE below."
      ]
    },
    {
      "cell_type": "markdown",
      "metadata": {},
      "source": [
        "NONE\n",
        "\n"
      ]
    },
    {
      "cell_type": "markdown",
      "metadata": {},
      "source": []
    }
  ],
  "metadata": {
    "colab": {
      "toc_visible": false
    },
    "kernelspec": {
      "display_name": "Python 3 (ipykernel)",
      "language": "python",
      "name": "python3"
    },
    "language_info": {
      "codemirror_mode": {
        "name": "ipython",
        "version": 3
      },
      "file_extension": ".py",
      "mimetype": "text/x-python",
      "name": "python",
      "nbconvert_exporter": "python",
      "pygments_lexer": "ipython3",
      "version": "3.12.1"
    }
  },
  "nbformat": 4,
  "nbformat_minor": 0
}
